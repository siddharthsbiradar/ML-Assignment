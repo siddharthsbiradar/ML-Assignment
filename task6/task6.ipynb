{
  "nbformat": 4,
  "nbformat_minor": 0,
  "metadata": {
    "colab": {
      "name": "ML_Tutorial_6.ipynb",
      "provenance": []
    },
    "kernelspec": {
      "name": "python3",
      "display_name": "Python 3"
    },
    "language_info": {
      "name": "python"
    }
  },
  "cells": [
    {
      "cell_type": "code",
      "metadata": {
        "id": "6-7d1isAsqa9"
      },
      "source": [
        "import numpy as np\n",
        "import matplotlib.pyplot as plt"
      ],
      "execution_count": 1,
      "outputs": []
    },
    {
      "cell_type": "code",
      "metadata": {
        "id": "NlJKPvLswiEs"
      },
      "source": [
        "def creatDataSet():\n",
        "  X_train=np.array([-4,-3,-2,-1,1]).reshape(-1,1)\n",
        "  Y_train=np.sin(X_train)\n",
        "  X_test=np.arange(-5,5,0.2).reshape(-1,1)\n",
        "  return X_train,Y_train,X_test\n"
      ],
      "execution_count": 2,
      "outputs": []
    },
    {
      "cell_type": "code",
      "metadata": {
        "id": "XUMxjGsLxdrT"
      },
      "source": [
        "def plot_gaussian_process(mu,cov,X,X_train=None,Y_train=None,samples=[]):\n",
        "  X=X.ravel()\n",
        "  mu=mu.ravel()\n",
        "  uncertainity=1.96 * np.sqrt(np.diag(cov))\n",
        "  plt.fill_between(X,mu + uncertainity,mu-uncertainity,alpha=0.1)\n",
        "  plt.plot(X,mu,label='mean')\n",
        "  for i,sample in enumerate(samples):\n",
        "    plt.plot(X,sample,lw=1,ls='--',label=f'sample {i+1}')\n",
        "  if X_train is not None:\n",
        "    plt.plot(X_train,Y_train,'rx')\n",
        "  plt.legend()"
      ],
      "execution_count": 10,
      "outputs": []
    },
    {
      "cell_type": "code",
      "metadata": {
        "id": "5CAOT__H18if"
      },
      "source": [
        "def kernel(X1,X2,scale=1.0,sigma_f=1.0):\n",
        "  sqdist=np.sum(X1**2,1).reshape(-1,1) + np.sum(X2**2,1) - 2*np.dot(X1,X2.T)\n",
        "  return sigma_f**2 * np.exp(-0.5/scale**2 * sqdist)"
      ],
      "execution_count": 11,
      "outputs": []
    },
    {
      "cell_type": "code",
      "metadata": {
        "id": "BtJ3S0XA2fGr"
      },
      "source": [
        "X_train,Y_train,X_test=creatDataSet()\n",
        "beta=25\n",
        "C=kernel(X_train,X_train)\n",
        "k=kernel(X_train,X_test)\n",
        "c=kernel(X_test,X_test)\n"
      ],
      "execution_count": 12,
      "outputs": []
    },
    {
      "cell_type": "code",
      "metadata": {
        "id": "h2DDvBWS20C4"
      },
      "source": [
        "C=C + np.eye(C.shape[0])*(1/beta)\n",
        "L=np.linalg.cholesky(C)\n",
        "alpha=np.dot(np.linalg.inv(L.T),np.dot(np.linalg.inv(L),Y_train))\n",
        "f=np.dot(k.T,alpha)\n",
        "v=np.dot(np.linalg.inv(L),k)\n",
        "var=c-np.dot(v.T,v)"
      ],
      "execution_count": 13,
      "outputs": []
    },
    {
      "cell_type": "code",
      "metadata": {
        "colab": {
          "base_uri": "https://localhost:8080/",
          "height": 265
        },
        "id": "VCqto9pj5qE7",
        "outputId": "9fcc5286-ea15-4f13-b38f-cfc3a1608e42"
      },
      "source": [
        "plot_gaussian_process(f,var,X_test,X_train,Y_train)\n",
        "plt.savefig(\"gaussian_process_output.jpg\")"
      ],
      "execution_count": 14,
      "outputs": [
        {
          "output_type": "display_data",
          "data": {
            "image/png": "[encoded data removed]",
            "text/plain": [
              "<Figure size 432x288 with 1 Axes>"
            ]
          },
          "metadata": {
            "tags": [],
            "needs_background": "light"
          }
        }
      ]
    },
    {
      "cell_type": "code",
      "metadata": {
        "id": "Y4K_btsf6E3P"
      },
      "source": [
        ""
      ],
      "execution_count": null,
      "outputs": []
    }
  ]
}